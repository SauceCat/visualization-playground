{
 "cells": [
  {
   "cell_type": "code",
   "execution_count": 1,
   "id": "ee938dc1-b75f-41e2-a36f-ae6152ec094e",
   "metadata": {},
   "outputs": [],
   "source": [
    "from minbpe import RegexTokenizer\n",
    "from minbpe.base import render_token\n",
    "import json"
   ]
  },
  {
   "cell_type": "markdown",
   "id": "c0627a43-d39b-4189-abfb-6db02f6e7b01",
   "metadata": {},
   "source": [
    "## train a `RegexTokenizer`\n",
    "vocab_size=1024"
   ]
  },
  {
   "cell_type": "code",
   "execution_count": 2,
   "id": "e370d5b9-1fb0-4d74-9c9d-aa1686f3ad5a",
   "metadata": {},
   "outputs": [],
   "source": [
    "tokenizer = RegexTokenizer()"
   ]
  },
  {
   "cell_type": "code",
   "execution_count": 3,
   "id": "fe0ba014-08e5-4ea2-b635-275c16e7a7f4",
   "metadata": {},
   "outputs": [
    {
     "name": "stdout",
     "output_type": "stream",
     "text": [
      "185561\n"
     ]
    }
   ],
   "source": [
    "very_long_training_string = open(\"tests/taylorswift.txt\").read()\n",
    "print(len(very_long_training_string))"
   ]
  },
  {
   "cell_type": "code",
   "execution_count": 4,
   "id": "c283b751-41fe-4c4d-9538-31eaea0fab7e",
   "metadata": {},
   "outputs": [
    {
     "name": "stdout",
     "output_type": "stream",
     "text": [
      "CPU times: user 54.7 s, sys: 152 ms, total: 54.9 s\n",
      "Wall time: 55.3 s\n"
     ]
    }
   ],
   "source": [
    "%%time\n",
    "tokenizer.train(very_long_training_string, vocab_size=1024)"
   ]
  },
  {
   "cell_type": "code",
   "execution_count": 5,
   "id": "7d3bfe76-1fc3-4e19-9cfa-934d01134558",
   "metadata": {},
   "outputs": [
    {
     "data": {
      "text/plain": [
       "[334, 284]"
      ]
     },
     "execution_count": 5,
     "metadata": {},
     "output_type": "execute_result"
    }
   ],
   "source": [
    "tokenizer.encode(\"Taylor Swift\")"
   ]
  },
  {
   "cell_type": "markdown",
   "id": "dffd79ac-117d-4f47-99de-812a9302fe80",
   "metadata": {},
   "source": [
    "## save for visualization"
   ]
  },
  {
   "cell_type": "code",
   "execution_count": 6,
   "id": "017f99e4-e853-4200-96af-2cffcb8a0084",
   "metadata": {},
   "outputs": [],
   "source": [
    "vocab = {i: bytes([i]) for i in range(256)}\n",
    "vocab_merges = {}\n",
    "for (p0, p1), idx in tokenizer.merges.items():\n",
    "    vocab[idx] = vocab[p0] + vocab[p1]\n",
    "    vocab_merges[idx] = (p0, p1)\n",
    "    \n",
    "converted_vocab = {}\n",
    "for k, v in vocab.items():\n",
    "    token = render_token(v)\n",
    "    # is_spec: if it can't be displayed as a string\n",
    "    converted_vocab[k] = {\"token\": token, \"length\": len(v), \"is_spec\": (token == '�' or token.startswith(\"\\\\u\"))}"
   ]
  },
  {
   "cell_type": "code",
   "execution_count": 7,
   "id": "d5646b44-9657-4e12-9de6-728676fa2a2d",
   "metadata": {},
   "outputs": [],
   "source": [
    "with open(\"taylorswift_minbpe_vocab.json\", \"w\") as fout:\n",
    "    json.dump(converted_vocab, fout)\n",
    "    \n",
    "with open(\"taylorswift_minbpe_vocab_merges.json\", \"w\") as fout:\n",
    "    json.dump(vocab_merges, fout)"
   ]
  }
 ],
 "metadata": {
  "kernelspec": {
   "display_name": "Python 3 (ipykernel)",
   "language": "python",
   "name": "python3"
  },
  "language_info": {
   "codemirror_mode": {
    "name": "ipython",
    "version": 3
   },
   "file_extension": ".py",
   "mimetype": "text/x-python",
   "name": "python",
   "nbconvert_exporter": "python",
   "pygments_lexer": "ipython3",
   "version": "3.9.13"
  }
 },
 "nbformat": 4,
 "nbformat_minor": 5
}
